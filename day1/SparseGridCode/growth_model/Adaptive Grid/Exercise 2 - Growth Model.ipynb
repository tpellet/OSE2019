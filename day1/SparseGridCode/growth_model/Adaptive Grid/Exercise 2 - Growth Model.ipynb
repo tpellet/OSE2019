{
 "cells": [
  {
   "cell_type": "markdown",
   "metadata": {},
   "source": [
    "### Growth Model"
   ]
  },
  {
   "cell_type": "code",
   "execution_count": 1,
   "metadata": {
    "collapsed": false
   },
   "outputs": [
    {
     "name": "stdout",
     "output_type": "stream",
     "text": [
      "('Number of Points', 5)\n",
      "('Number of Points', 12)\n",
      "('Number of Points', 25)\n",
      "('Max Number of Points', 65)\n"
     ]
    },
    {
     "ename": "ValueError",
     "evalue": "operands could not be broadcast together with shapes (55,1) (59,1) ",
     "output_type": "error",
     "traceback": [
      "\u001b[0;31m---------------------------------------------------------------------------\u001b[0m",
      "\u001b[0;31mValueError\u001b[0m                                Traceback (most recent call last)",
      "\u001b[0;32m<ipython-input-1-6a5c3d65067a>\u001b[0m in \u001b[0;36m<module>\u001b[0;34m()\u001b[0m\n\u001b[1;32m     53\u001b[0m     \u001b[0mtest1\u001b[0m \u001b[0;34m=\u001b[0m \u001b[0mvalnew\u001b[0m\u001b[0;34m.\u001b[0m\u001b[0mevaluateBatch\u001b[0m\u001b[0;34m(\u001b[0m\u001b[0mpoints\u001b[0m\u001b[0;34m)\u001b[0m\u001b[0;34m\u001b[0m\u001b[0m\n\u001b[1;32m     54\u001b[0m \u001b[0;31m#     print(test1)\u001b[0m\u001b[0;34m\u001b[0m\u001b[0;34m\u001b[0m\u001b[0m\n\u001b[0;32m---> 55\u001b[0;31m     \u001b[0;32mprint\u001b[0m\u001b[0;34m(\u001b[0m\u001b[0;34m(\u001b[0m\u001b[0mtest1\u001b[0m \u001b[0;34m-\u001b[0m \u001b[0mtest\u001b[0m\u001b[0;34m)\u001b[0m\u001b[0;34m/\u001b[0m\u001b[0;34m(\u001b[0m\u001b[0mtest\u001b[0m \u001b[0;34m-\u001b[0m \u001b[0mtestm\u001b[0m\u001b[0;34m)\u001b[0m\u001b[0;34m)\u001b[0m\u001b[0;34m\u001b[0m\u001b[0m\n\u001b[0m\u001b[1;32m     56\u001b[0m     \u001b[0mtestm\u001b[0m \u001b[0;34m=\u001b[0m \u001b[0mtest\u001b[0m\u001b[0;34m\u001b[0m\u001b[0m\n\u001b[1;32m     57\u001b[0m     \u001b[0mtest\u001b[0m \u001b[0;34m=\u001b[0m \u001b[0mtest1\u001b[0m\u001b[0;34m\u001b[0m\u001b[0m\n",
      "\u001b[0;31mValueError\u001b[0m: operands could not be broadcast together with shapes (55,1) (59,1) "
     ]
    }
   ],
   "source": [
    "#======================================================================\n",
    "#\n",
    "#     This routine solves an infinite horizon growth model \n",
    "#     with dynamic programming and sparse grids\n",
    "#\n",
    "#     The model is described in Scheidegger & Bilionis (2017)\n",
    "#     https://papers.ssrn.com/sol3/papers.cfm?abstract_id=2927400\n",
    "#\n",
    "#     external libraries needed:\n",
    "#     - IPOPT (https://projects.coin-or.org/Ipopt)\n",
    "#     - PYIPOPT (https://github.com/xuy/pyipopt)\n",
    "#     - TASMANIAN (http://tasmanian.ornl.gov/)\n",
    "#\n",
    "#     Simon Scheidegger, 11/16 ; 07/17\n",
    "#======================================================================\n",
    "\n",
    "import nonlinear_solver_initial as solver     #solves opt. problems for terminal VF\n",
    "import nonlinear_solver_iterate as solviter   #solves opt. problems during VFI\n",
    "from parameters import *                      #parameters of model\n",
    "import interpolation as interpol              #interface to sparse grid library/terminal VF\n",
    "import interpolation_iter as interpol_iter    #interface to sparse grid library/iteration\n",
    "import postprocessing as post                 #computes the L2 and Linfinity error of the model\n",
    "\n",
    "import TasmanianSG                            #sparse grid library\n",
    "import numpy as np\n",
    "\n",
    "\n",
    "#======================================================================\n",
    "# Start with Value Function Iteration\n",
    "\n",
    "# terminal value function as a function of three variable K,L,I\n",
    "valnew=TasmanianSG.TasmanianSparseGrid()\n",
    "if (numstart==0):\n",
    "    valnew=interpol.sparse_grid(n_agents, iDepth) # Compute sparse grid and solve value function for all points, return grid and interpolant\n",
    "    points = valnew.getPoints()\n",
    "    test = valnew.evaluateBatch(points)\n",
    "    testm = test\n",
    "    valnew.write(\"valnew_1.\" + str(numstart) + \".txt\") #write file to disk for restart\n",
    "\n",
    "# value function during iteration\n",
    "else:\n",
    "    valnew.read(\"valnew_1.\" + str(numstart) + \".txt\")  #write file to disk for restart\n",
    "    \n",
    "valold=TasmanianSG.TasmanianSparseGrid()\n",
    "valold=valnew\n",
    "\n",
    "\n",
    "for i in range(numstart, numits): #Between 1 and 10\n",
    "    valnew=TasmanianSG.TasmanianSparseGrid()\n",
    "    valnew=interpol_iter.sparse_grid_iter(n_agents, iDepth, valold) # Solve based on previous result\n",
    "#     valnew.plotPoints2D()\n",
    "    points = valnew.getPoints()\n",
    "    test1 = valnew.evaluateBatch(points)\n",
    "#     print(test1)\n",
    "#     print((test1 - test)/(test - testm))\n",
    "    testm = test\n",
    "    test = test1\n",
    "                     \n",
    "    #     valnew.plotPoints2D()\n",
    "    valold=TasmanianSG.TasmanianSparseGrid()\n",
    "    valold=valnew\n",
    "    valnew.write(\"valnew_1.\" + str(i+1) + \".txt\")\n",
    "    \n",
    "#======================================================================\n",
    "print( \"===============================================================\")\n",
    "print( \" \" )\n",
    "print( \" Computation of a growth model of dimension \", n_agents ,\" finished after \", numits, \" steps\")\n",
    "print( \" \" )\n",
    "print( \"===============================================================\")\n",
    "#======================================================================\n",
    "\n",
    "# compute errors   \n",
    "avg_err=post.ls_error(n_agents, numstart, numits, No_samples)\n",
    "\n",
    "#======================================================================\n",
    "print( \"===============================================================\")\n",
    "print( \" \")\n",
    "print( \" Errors are computed -- see errors.txt\")\n",
    "print( \" \")\n",
    "print( \"===============================================================\")\n",
    "#======================================================================\n"
   ]
  },
  {
   "cell_type": "code",
   "execution_count": null,
   "metadata": {
    "collapsed": true
   },
   "outputs": [],
   "source": []
  }
 ],
 "metadata": {
  "kernelspec": {
   "display_name": "Python 2",
   "language": "python",
   "name": "python2"
  },
  "language_info": {
   "codemirror_mode": {
    "name": "ipython",
    "version": 2
   },
   "file_extension": ".py",
   "mimetype": "text/x-python",
   "name": "python",
   "nbconvert_exporter": "python",
   "pygments_lexer": "ipython2",
   "version": "2.7.12"
  }
 },
 "nbformat": 4,
 "nbformat_minor": 2
}
